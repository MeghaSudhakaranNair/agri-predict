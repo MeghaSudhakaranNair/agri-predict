{
  "nbformat": 4,
  "nbformat_minor": 0,
  "metadata": {
    "colab": {
      "name": "major_2",
      "provenance": [],
      "collapsed_sections": []
    },
    "kernelspec": {
      "name": "python3",
      "display_name": "Python 3"
    }
  },
  "cells": [
    {
      "cell_type": "code",
      "metadata": {
        "id": "gdhR8ultUf-4"
      },
      "source": [
        "from google.colab import drive\n",
        "drive.mount('/content/drive',force_remount=True)"
      ],
      "execution_count": null,
      "outputs": []
    },
    {
      "cell_type": "code",
      "metadata": {
        "id": "1ze650q9UwDK"
      },
      "source": [
        "import os\n",
        "import pandas as pd\n",
        "import matplotlib.pyplot as plt"
      ],
      "execution_count": null,
      "outputs": []
    },
    {
      "cell_type": "code",
      "metadata": {
        "id": "zu2_jqxYU0Vq"
      },
      "source": [
        "dataset_path=\"/content/drive/MyDrive/major project\"\n",
        "dataset=os.listdir(dataset_path)"
      ],
      "execution_count": null,
      "outputs": []
    },
    {
      "cell_type": "code",
      "metadata": {
        "id": "akTfkwobU4Bs"
      },
      "source": [
        "string=\"\"\n",
        "for i in range(len(dataset)):\n",
        "  string = string + dataset[i]"
      ],
      "execution_count": null,
      "outputs": []
    },
    {
      "cell_type": "code",
      "metadata": {
        "id": "bNeNb6K3U7LR"
      },
      "source": [
        "dataset=pd.read_csv(dataset_path + \"/\" + string)"
      ],
      "execution_count": null,
      "outputs": []
    },
    {
      "cell_type": "code",
      "metadata": {
        "colab": {
          "base_uri": "https://localhost:8080/"
        },
        "id": "rCmon8MTU_OI",
        "outputId": "cf17d77a-ccb6-4b34-903b-64c9ad819acd"
      },
      "source": [
        "dataset.State_Name.unique()"
      ],
      "execution_count": null,
      "outputs": [
        {
          "output_type": "execute_result",
          "data": {
            "text/plain": [
              "array(['Andaman and Nicobar Islands', 'Andhra Pradesh',\n",
              "       'Arunachal Pradesh', 'Assam', 'Bihar', 'Chandigarh',\n",
              "       'Chhattisgarh', 'Dadra and Nagar Haveli', 'Goa', 'Gujarat',\n",
              "       'Haryana', 'Himachal Pradesh', 'Jammu and Kashmir ', 'Jharkhand',\n",
              "       'Karnataka', 'Kerala', 'Madhya Pradesh', 'Maharashtra', 'Manipur',\n",
              "       'Meghalaya', 'Mizoram', 'Nagaland', 'Odisha', 'Puducherry',\n",
              "       'Punjab', 'Rajasthan', 'Sikkim', 'Tamil Nadu', 'Telangana ',\n",
              "       'Tripura', 'Uttar Pradesh', 'Uttarakhand', 'West Bengal'],\n",
              "      dtype=object)"
            ]
          },
          "metadata": {
            "tags": []
          },
          "execution_count": 82
        }
      ]
    },
    {
      "cell_type": "code",
      "metadata": {
        "colab": {
          "base_uri": "https://localhost:8080/"
        },
        "id": "3MpoiJecVerz",
        "outputId": "7082e6e3-1ef5-49ed-9d07-83c4317d2e9d"
      },
      "source": [
        "cnts=dataset['State_Name'].value_counts()\n",
        "cnts"
      ],
      "execution_count": null,
      "outputs": [
        {
          "output_type": "execute_result",
          "data": {
            "text/plain": [
              "Uttar Pradesh                  33306\n",
              "Madhya Pradesh                 22943\n",
              "Karnataka                      21122\n",
              "Bihar                          18885\n",
              "Assam                          14628\n",
              "Odisha                         13575\n",
              "Tamil Nadu                     13547\n",
              "Maharashtra                    12628\n",
              "Rajasthan                      12514\n",
              "Chhattisgarh                   10709\n",
              "Andhra Pradesh                  9628\n",
              "West Bengal                     9613\n",
              "Gujarat                         8436\n",
              "Haryana                         5875\n",
              "Telangana                       5649\n",
              "Uttarakhand                     4896\n",
              "Kerala                          4261\n",
              "Nagaland                        3906\n",
              "Punjab                          3173\n",
              "Meghalaya                       2867\n",
              "Arunachal Pradesh               2546\n",
              "Himachal Pradesh                2494\n",
              "Jammu and Kashmir               1634\n",
              "Tripura                         1412\n",
              "Manipur                         1267\n",
              "Jharkhand                       1266\n",
              "Mizoram                          957\n",
              "Puducherry                       876\n",
              "Sikkim                           714\n",
              "Dadra and Nagar Haveli           263\n",
              "Goa                              208\n",
              "Andaman and Nicobar Islands      203\n",
              "Chandigarh                        90\n",
              "Name: State_Name, dtype: int64"
            ]
          },
          "metadata": {
            "tags": []
          },
          "execution_count": 7
        }
      ]
    },
    {
      "cell_type": "code",
      "metadata": {
        "id": "0TPzkXUjZA0A"
      },
      "source": [
        "dataset=dataset[dataset !='Whole Year ']\n",
        "dataset=dataset.dropna()\n"
      ],
      "execution_count": null,
      "outputs": []
    },
    {
      "cell_type": "code",
      "metadata": {
        "colab": {
          "base_uri": "https://localhost:8080/",
          "height": 343
        },
        "id": "1q2-08RaYF2q",
        "outputId": "a7675819-6541-4666-d021-cd1a77c116d5"
      },
      "source": [
        "dataset.head(10)"
      ],
      "execution_count": null,
      "outputs": [
        {
          "output_type": "execute_result",
          "data": {
            "text/html": [
              "<div>\n",
              "<style scoped>\n",
              "    .dataframe tbody tr th:only-of-type {\n",
              "        vertical-align: middle;\n",
              "    }\n",
              "\n",
              "    .dataframe tbody tr th {\n",
              "        vertical-align: top;\n",
              "    }\n",
              "\n",
              "    .dataframe thead th {\n",
              "        text-align: right;\n",
              "    }\n",
              "</style>\n",
              "<table border=\"1\" class=\"dataframe\">\n",
              "  <thead>\n",
              "    <tr style=\"text-align: right;\">\n",
              "      <th></th>\n",
              "      <th>State_Name</th>\n",
              "      <th>District_Name</th>\n",
              "      <th>Crop_Year</th>\n",
              "      <th>Season</th>\n",
              "      <th>Crop</th>\n",
              "      <th>Area</th>\n",
              "      <th>Production</th>\n",
              "    </tr>\n",
              "  </thead>\n",
              "  <tbody>\n",
              "    <tr>\n",
              "      <th>0</th>\n",
              "      <td>Andaman and Nicobar Islands</td>\n",
              "      <td>NICOBARS</td>\n",
              "      <td>2000</td>\n",
              "      <td>Kharif</td>\n",
              "      <td>Arecanut</td>\n",
              "      <td>1254.00</td>\n",
              "      <td>2000.00</td>\n",
              "    </tr>\n",
              "    <tr>\n",
              "      <th>1</th>\n",
              "      <td>Andaman and Nicobar Islands</td>\n",
              "      <td>NICOBARS</td>\n",
              "      <td>2000</td>\n",
              "      <td>Kharif</td>\n",
              "      <td>Other Kharif pulses</td>\n",
              "      <td>2.00</td>\n",
              "      <td>1.00</td>\n",
              "    </tr>\n",
              "    <tr>\n",
              "      <th>2</th>\n",
              "      <td>Andaman and Nicobar Islands</td>\n",
              "      <td>NICOBARS</td>\n",
              "      <td>2000</td>\n",
              "      <td>Kharif</td>\n",
              "      <td>Rice</td>\n",
              "      <td>102.00</td>\n",
              "      <td>321.00</td>\n",
              "    </tr>\n",
              "    <tr>\n",
              "      <th>10</th>\n",
              "      <td>Andaman and Nicobar Islands</td>\n",
              "      <td>NICOBARS</td>\n",
              "      <td>2001</td>\n",
              "      <td>Kharif</td>\n",
              "      <td>Arecanut</td>\n",
              "      <td>1254.00</td>\n",
              "      <td>2061.00</td>\n",
              "    </tr>\n",
              "    <tr>\n",
              "      <th>11</th>\n",
              "      <td>Andaman and Nicobar Islands</td>\n",
              "      <td>NICOBARS</td>\n",
              "      <td>2001</td>\n",
              "      <td>Kharif</td>\n",
              "      <td>Other Kharif pulses</td>\n",
              "      <td>2.00</td>\n",
              "      <td>1.00</td>\n",
              "    </tr>\n",
              "    <tr>\n",
              "      <th>12</th>\n",
              "      <td>Andaman and Nicobar Islands</td>\n",
              "      <td>NICOBARS</td>\n",
              "      <td>2001</td>\n",
              "      <td>Kharif</td>\n",
              "      <td>Rice</td>\n",
              "      <td>83.00</td>\n",
              "      <td>300.00</td>\n",
              "    </tr>\n",
              "    <tr>\n",
              "      <th>18</th>\n",
              "      <td>Andaman and Nicobar Islands</td>\n",
              "      <td>NICOBARS</td>\n",
              "      <td>2002</td>\n",
              "      <td>Kharif</td>\n",
              "      <td>Rice</td>\n",
              "      <td>189.20</td>\n",
              "      <td>510.84</td>\n",
              "    </tr>\n",
              "    <tr>\n",
              "      <th>27</th>\n",
              "      <td>Andaman and Nicobar Islands</td>\n",
              "      <td>NICOBARS</td>\n",
              "      <td>2003</td>\n",
              "      <td>Kharif</td>\n",
              "      <td>Rice</td>\n",
              "      <td>52.00</td>\n",
              "      <td>90.17</td>\n",
              "    </tr>\n",
              "    <tr>\n",
              "      <th>36</th>\n",
              "      <td>Andaman and Nicobar Islands</td>\n",
              "      <td>NICOBARS</td>\n",
              "      <td>2004</td>\n",
              "      <td>Kharif</td>\n",
              "      <td>Rice</td>\n",
              "      <td>52.94</td>\n",
              "      <td>72.57</td>\n",
              "    </tr>\n",
              "    <tr>\n",
              "      <th>45</th>\n",
              "      <td>Andaman and Nicobar Islands</td>\n",
              "      <td>NICOBARS</td>\n",
              "      <td>2005</td>\n",
              "      <td>Kharif</td>\n",
              "      <td>Rice</td>\n",
              "      <td>2.09</td>\n",
              "      <td>12.06</td>\n",
              "    </tr>\n",
              "  </tbody>\n",
              "</table>\n",
              "</div>"
            ],
            "text/plain": [
              "                     State_Name District_Name  ...     Area Production\n",
              "0   Andaman and Nicobar Islands      NICOBARS  ...  1254.00    2000.00\n",
              "1   Andaman and Nicobar Islands      NICOBARS  ...     2.00       1.00\n",
              "2   Andaman and Nicobar Islands      NICOBARS  ...   102.00     321.00\n",
              "10  Andaman and Nicobar Islands      NICOBARS  ...  1254.00    2061.00\n",
              "11  Andaman and Nicobar Islands      NICOBARS  ...     2.00       1.00\n",
              "12  Andaman and Nicobar Islands      NICOBARS  ...    83.00     300.00\n",
              "18  Andaman and Nicobar Islands      NICOBARS  ...   189.20     510.84\n",
              "27  Andaman and Nicobar Islands      NICOBARS  ...    52.00      90.17\n",
              "36  Andaman and Nicobar Islands      NICOBARS  ...    52.94      72.57\n",
              "45  Andaman and Nicobar Islands      NICOBARS  ...     2.09      12.06\n",
              "\n",
              "[10 rows x 7 columns]"
            ]
          },
          "metadata": {
            "tags": []
          },
          "execution_count": 11
        }
      ]
    },
    {
      "cell_type": "code",
      "metadata": {
        "id": "OFQSEQg-klc-"
      },
      "source": [
        "# dataset = dataset[dataset['Production']  >= 10000] "
      ],
      "execution_count": null,
      "outputs": []
    },
    {
      "cell_type": "code",
      "metadata": {
        "id": "V07DqjA5lKdM"
      },
      "source": [
        "dataset=dataset.head(100000)"
      ],
      "execution_count": null,
      "outputs": []
    },
    {
      "cell_type": "code",
      "metadata": {
        "colab": {
          "base_uri": "https://localhost:8080/"
        },
        "id": "oGKCtKx8lShp",
        "outputId": "5e81f44d-fd40-45f4-feaa-27ebe1f08d5c"
      },
      "source": [
        "dataset.shape"
      ],
      "execution_count": null,
      "outputs": [
        {
          "output_type": "execute_result",
          "data": {
            "text/plain": [
              "(100000, 7)"
            ]
          },
          "metadata": {
            "tags": []
          },
          "execution_count": 85
        }
      ]
    },
    {
      "cell_type": "code",
      "metadata": {
        "colab": {
          "base_uri": "https://localhost:8080/",
          "height": 136
        },
        "id": "OoKeB37VYVSI",
        "outputId": "a37c761e-0331-48b7-8ff6-9aab3840c75e"
      },
      "source": [
        "correlation_df = dataset.corr()\n",
        "correlation_df"
      ],
      "execution_count": null,
      "outputs": [
        {
          "output_type": "execute_result",
          "data": {
            "text/html": [
              "<div>\n",
              "<style scoped>\n",
              "    .dataframe tbody tr th:only-of-type {\n",
              "        vertical-align: middle;\n",
              "    }\n",
              "\n",
              "    .dataframe tbody tr th {\n",
              "        vertical-align: top;\n",
              "    }\n",
              "\n",
              "    .dataframe thead th {\n",
              "        text-align: right;\n",
              "    }\n",
              "</style>\n",
              "<table border=\"1\" class=\"dataframe\">\n",
              "  <thead>\n",
              "    <tr style=\"text-align: right;\">\n",
              "      <th></th>\n",
              "      <th>Crop_Year</th>\n",
              "      <th>Area</th>\n",
              "      <th>Production</th>\n",
              "    </tr>\n",
              "  </thead>\n",
              "  <tbody>\n",
              "    <tr>\n",
              "      <th>Crop_Year</th>\n",
              "      <td>1.000000</td>\n",
              "      <td>-0.031355</td>\n",
              "      <td>0.011705</td>\n",
              "    </tr>\n",
              "    <tr>\n",
              "      <th>Area</th>\n",
              "      <td>-0.031355</td>\n",
              "      <td>1.000000</td>\n",
              "      <td>0.385930</td>\n",
              "    </tr>\n",
              "    <tr>\n",
              "      <th>Production</th>\n",
              "      <td>0.011705</td>\n",
              "      <td>0.385930</td>\n",
              "      <td>1.000000</td>\n",
              "    </tr>\n",
              "  </tbody>\n",
              "</table>\n",
              "</div>"
            ],
            "text/plain": [
              "            Crop_Year      Area  Production\n",
              "Crop_Year    1.000000 -0.031355    0.011705\n",
              "Area        -0.031355  1.000000    0.385930\n",
              "Production   0.011705  0.385930    1.000000"
            ]
          },
          "metadata": {
            "tags": []
          },
          "execution_count": 86
        }
      ]
    },
    {
      "cell_type": "code",
      "metadata": {
        "colab": {
          "base_uri": "https://localhost:8080/",
          "height": 343
        },
        "id": "wWnetViSm16i",
        "outputId": "ba196ff3-b133-4785-961e-f51a476d8d18"
      },
      "source": [
        "cnt=dataset['Crop'].value_counts()\n",
        "dataset = dataset[dataset.groupby('Crop').Crop.transform('count')>1000].copy() \n",
        "dataset.head(10)"
      ],
      "execution_count": null,
      "outputs": [
        {
          "output_type": "execute_result",
          "data": {
            "text/html": [
              "<div>\n",
              "<style scoped>\n",
              "    .dataframe tbody tr th:only-of-type {\n",
              "        vertical-align: middle;\n",
              "    }\n",
              "\n",
              "    .dataframe tbody tr th {\n",
              "        vertical-align: top;\n",
              "    }\n",
              "\n",
              "    .dataframe thead th {\n",
              "        text-align: right;\n",
              "    }\n",
              "</style>\n",
              "<table border=\"1\" class=\"dataframe\">\n",
              "  <thead>\n",
              "    <tr style=\"text-align: right;\">\n",
              "      <th></th>\n",
              "      <th>State_Name</th>\n",
              "      <th>District_Name</th>\n",
              "      <th>Crop_Year</th>\n",
              "      <th>Season</th>\n",
              "      <th>Crop</th>\n",
              "      <th>Area</th>\n",
              "      <th>Production</th>\n",
              "    </tr>\n",
              "  </thead>\n",
              "  <tbody>\n",
              "    <tr>\n",
              "      <th>1</th>\n",
              "      <td>Andaman and Nicobar Islands</td>\n",
              "      <td>NICOBARS</td>\n",
              "      <td>2000</td>\n",
              "      <td>Kharif</td>\n",
              "      <td>Other Kharif pulses</td>\n",
              "      <td>2.00</td>\n",
              "      <td>1.00</td>\n",
              "    </tr>\n",
              "    <tr>\n",
              "      <th>2</th>\n",
              "      <td>Andaman and Nicobar Islands</td>\n",
              "      <td>NICOBARS</td>\n",
              "      <td>2000</td>\n",
              "      <td>Kharif</td>\n",
              "      <td>Rice</td>\n",
              "      <td>102.00</td>\n",
              "      <td>321.00</td>\n",
              "    </tr>\n",
              "    <tr>\n",
              "      <th>11</th>\n",
              "      <td>Andaman and Nicobar Islands</td>\n",
              "      <td>NICOBARS</td>\n",
              "      <td>2001</td>\n",
              "      <td>Kharif</td>\n",
              "      <td>Other Kharif pulses</td>\n",
              "      <td>2.00</td>\n",
              "      <td>1.00</td>\n",
              "    </tr>\n",
              "    <tr>\n",
              "      <th>12</th>\n",
              "      <td>Andaman and Nicobar Islands</td>\n",
              "      <td>NICOBARS</td>\n",
              "      <td>2001</td>\n",
              "      <td>Kharif</td>\n",
              "      <td>Rice</td>\n",
              "      <td>83.00</td>\n",
              "      <td>300.00</td>\n",
              "    </tr>\n",
              "    <tr>\n",
              "      <th>18</th>\n",
              "      <td>Andaman and Nicobar Islands</td>\n",
              "      <td>NICOBARS</td>\n",
              "      <td>2002</td>\n",
              "      <td>Kharif</td>\n",
              "      <td>Rice</td>\n",
              "      <td>189.20</td>\n",
              "      <td>510.84</td>\n",
              "    </tr>\n",
              "    <tr>\n",
              "      <th>27</th>\n",
              "      <td>Andaman and Nicobar Islands</td>\n",
              "      <td>NICOBARS</td>\n",
              "      <td>2003</td>\n",
              "      <td>Kharif</td>\n",
              "      <td>Rice</td>\n",
              "      <td>52.00</td>\n",
              "      <td>90.17</td>\n",
              "    </tr>\n",
              "    <tr>\n",
              "      <th>36</th>\n",
              "      <td>Andaman and Nicobar Islands</td>\n",
              "      <td>NICOBARS</td>\n",
              "      <td>2004</td>\n",
              "      <td>Kharif</td>\n",
              "      <td>Rice</td>\n",
              "      <td>52.94</td>\n",
              "      <td>72.57</td>\n",
              "    </tr>\n",
              "    <tr>\n",
              "      <th>45</th>\n",
              "      <td>Andaman and Nicobar Islands</td>\n",
              "      <td>NICOBARS</td>\n",
              "      <td>2005</td>\n",
              "      <td>Kharif</td>\n",
              "      <td>Rice</td>\n",
              "      <td>2.09</td>\n",
              "      <td>12.06</td>\n",
              "    </tr>\n",
              "    <tr>\n",
              "      <th>64</th>\n",
              "      <td>Andaman and Nicobar Islands</td>\n",
              "      <td>NICOBARS</td>\n",
              "      <td>2010</td>\n",
              "      <td>Autumn</td>\n",
              "      <td>Rice</td>\n",
              "      <td>3.50</td>\n",
              "      <td>10.00</td>\n",
              "    </tr>\n",
              "    <tr>\n",
              "      <th>69</th>\n",
              "      <td>Andaman and Nicobar Islands</td>\n",
              "      <td>NICOBARS</td>\n",
              "      <td>2010</td>\n",
              "      <td>Rabi</td>\n",
              "      <td>Dry chillies</td>\n",
              "      <td>12.00</td>\n",
              "      <td>25.00</td>\n",
              "    </tr>\n",
              "  </tbody>\n",
              "</table>\n",
              "</div>"
            ],
            "text/plain": [
              "                     State_Name District_Name  Crop_Year       Season  \\\n",
              "1   Andaman and Nicobar Islands  NICOBARS      2000       Kharif        \n",
              "2   Andaman and Nicobar Islands  NICOBARS      2000       Kharif        \n",
              "11  Andaman and Nicobar Islands  NICOBARS      2001       Kharif        \n",
              "12  Andaman and Nicobar Islands  NICOBARS      2001       Kharif        \n",
              "18  Andaman and Nicobar Islands  NICOBARS      2002       Kharif        \n",
              "27  Andaman and Nicobar Islands  NICOBARS      2003       Kharif        \n",
              "36  Andaman and Nicobar Islands  NICOBARS      2004       Kharif        \n",
              "45  Andaman and Nicobar Islands  NICOBARS      2005       Kharif        \n",
              "64  Andaman and Nicobar Islands  NICOBARS      2010       Autumn        \n",
              "69  Andaman and Nicobar Islands  NICOBARS      2010       Rabi          \n",
              "\n",
              "                   Crop    Area  Production  \n",
              "1   Other Kharif pulses  2.00    1.00        \n",
              "2   Rice                 102.00  321.00      \n",
              "11  Other Kharif pulses  2.00    1.00        \n",
              "12  Rice                 83.00   300.00      \n",
              "18  Rice                 189.20  510.84      \n",
              "27  Rice                 52.00   90.17       \n",
              "36  Rice                 52.94   72.57       \n",
              "45  Rice                 2.09    12.06       \n",
              "64  Rice                 3.50    10.00       \n",
              "69  Dry chillies         12.00   25.00       "
            ]
          },
          "metadata": {
            "tags": []
          },
          "execution_count": 121
        }
      ]
    },
    {
      "cell_type": "code",
      "metadata": {
        "colab": {
          "base_uri": "https://localhost:8080/"
        },
        "id": "tPYm9h2x0Gsg",
        "outputId": "5a48748c-0eda-43b2-9f52-42a226d4c3ad"
      },
      "source": [
        "State=dataset['State_Name'].value_counts()\n",
        "State"
      ],
      "execution_count": null,
      "outputs": [
        {
          "output_type": "execute_result",
          "data": {
            "text/plain": [
              "Karnataka                      15264\n",
              "Bihar                          14685\n",
              "Madhya Pradesh                 13901\n",
              "Maharashtra                    10826\n",
              "Assam                          8199 \n",
              "Chhattisgarh                   7304 \n",
              "Andhra Pradesh                 6738 \n",
              "Gujarat                        6182 \n",
              "Haryana                        3334 \n",
              "Himachal Pradesh               1888 \n",
              "Jammu and Kashmir              1220 \n",
              "Arunachal Pradesh              1145 \n",
              "Jharkhand                      1076 \n",
              "Kerala                         940  \n",
              "Dadra and Nagar Haveli         219  \n",
              "Goa                            123  \n",
              "Chandigarh                     63   \n",
              "Andaman and Nicobar Islands    39   \n",
              "Name: State_Name, dtype: int64"
            ]
          },
          "metadata": {
            "tags": []
          },
          "execution_count": 122
        }
      ]
    },
    {
      "cell_type": "code",
      "metadata": {
        "colab": {
          "base_uri": "https://localhost:8080/"
        },
        "id": "CN1mjqkz0ezq",
        "outputId": "89f0d5ff-8850-4c25-a974-cfdb72d79376"
      },
      "source": [
        "dataset.Season.unique()"
      ],
      "execution_count": null,
      "outputs": [
        {
          "output_type": "execute_result",
          "data": {
            "text/plain": [
              "array(['Kharif     ', 'Autumn     ', 'Rabi       ', 'Summer     ',\n",
              "       'Winter     '], dtype=object)"
            ]
          },
          "metadata": {
            "tags": []
          },
          "execution_count": 13
        }
      ]
    },
    {
      "cell_type": "code",
      "metadata": {
        "colab": {
          "base_uri": "https://localhost:8080/"
        },
        "id": "V6STZhMG1Kq5",
        "outputId": "9c44e3a1-9ab5-4d28-b314-4bd7074af202"
      },
      "source": [
        "CY=dataset['Crop_Year'].value_counts()\n",
        "CY"
      ],
      "execution_count": null,
      "outputs": [
        {
          "output_type": "execute_result",
          "data": {
            "text/plain": [
              "2011    5851\n",
              "2010    5814\n",
              "2005    5800\n",
              "2012    5782\n",
              "2007    5751\n",
              "2003    5733\n",
              "2006    5624\n",
              "2002    5614\n",
              "2008    5519\n",
              "2004    5471\n",
              "2001    5393\n",
              "2000    5316\n",
              "2013    5082\n",
              "1999    4762\n",
              "2009    4554\n",
              "1998    4188\n",
              "2014    4008\n",
              "1997    2884\n",
              "Name: Crop_Year, dtype: int64"
            ]
          },
          "metadata": {
            "tags": []
          },
          "execution_count": 14
        }
      ]
    },
    {
      "cell_type": "code",
      "metadata": {
        "colab": {
          "base_uri": "https://localhost:8080/"
        },
        "id": "9ODjhfv01UIk",
        "outputId": "7ed1d038-bf00-4c57-c3f1-460254c09a56"
      },
      "source": [
        "Season=dataset['Season'].value_counts()\n",
        "Season"
      ],
      "execution_count": null,
      "outputs": [
        {
          "output_type": "execute_result",
          "data": {
            "text/plain": [
              "Kharif         48045\n",
              "Rabi           35372\n",
              "Summer          6442\n",
              "Autumn          1837\n",
              "Winter          1450\n",
              "Name: Season, dtype: int64"
            ]
          },
          "metadata": {
            "tags": []
          },
          "execution_count": 13
        }
      ]
    },
    {
      "cell_type": "code",
      "metadata": {
        "id": "tM2vEu3EMEKw"
      },
      "source": [
        "temp = dataset[['State_Name','District_Name']].copy()"
      ],
      "execution_count": null,
      "outputs": []
    },
    {
      "cell_type": "code",
      "metadata": {
        "colab": {
          "base_uri": "https://localhost:8080/",
          "height": 343
        },
        "id": "pwNVMaY4MSNm",
        "outputId": "88d1aa09-2083-4d9b-a8ec-29c238b8dc56"
      },
      "source": [
        "temp.head(10)"
      ],
      "execution_count": null,
      "outputs": [
        {
          "output_type": "execute_result",
          "data": {
            "text/html": [
              "<div>\n",
              "<style scoped>\n",
              "    .dataframe tbody tr th:only-of-type {\n",
              "        vertical-align: middle;\n",
              "    }\n",
              "\n",
              "    .dataframe tbody tr th {\n",
              "        vertical-align: top;\n",
              "    }\n",
              "\n",
              "    .dataframe thead th {\n",
              "        text-align: right;\n",
              "    }\n",
              "</style>\n",
              "<table border=\"1\" class=\"dataframe\">\n",
              "  <thead>\n",
              "    <tr style=\"text-align: right;\">\n",
              "      <th></th>\n",
              "      <th>State_Name</th>\n",
              "      <th>District_Name</th>\n",
              "    </tr>\n",
              "  </thead>\n",
              "  <tbody>\n",
              "    <tr>\n",
              "      <th>1</th>\n",
              "      <td>Andaman and Nicobar Islands</td>\n",
              "      <td>NICOBARS</td>\n",
              "    </tr>\n",
              "    <tr>\n",
              "      <th>2</th>\n",
              "      <td>Andaman and Nicobar Islands</td>\n",
              "      <td>NICOBARS</td>\n",
              "    </tr>\n",
              "    <tr>\n",
              "      <th>11</th>\n",
              "      <td>Andaman and Nicobar Islands</td>\n",
              "      <td>NICOBARS</td>\n",
              "    </tr>\n",
              "    <tr>\n",
              "      <th>12</th>\n",
              "      <td>Andaman and Nicobar Islands</td>\n",
              "      <td>NICOBARS</td>\n",
              "    </tr>\n",
              "    <tr>\n",
              "      <th>18</th>\n",
              "      <td>Andaman and Nicobar Islands</td>\n",
              "      <td>NICOBARS</td>\n",
              "    </tr>\n",
              "    <tr>\n",
              "      <th>27</th>\n",
              "      <td>Andaman and Nicobar Islands</td>\n",
              "      <td>NICOBARS</td>\n",
              "    </tr>\n",
              "    <tr>\n",
              "      <th>36</th>\n",
              "      <td>Andaman and Nicobar Islands</td>\n",
              "      <td>NICOBARS</td>\n",
              "    </tr>\n",
              "    <tr>\n",
              "      <th>45</th>\n",
              "      <td>Andaman and Nicobar Islands</td>\n",
              "      <td>NICOBARS</td>\n",
              "    </tr>\n",
              "    <tr>\n",
              "      <th>64</th>\n",
              "      <td>Andaman and Nicobar Islands</td>\n",
              "      <td>NICOBARS</td>\n",
              "    </tr>\n",
              "    <tr>\n",
              "      <th>69</th>\n",
              "      <td>Andaman and Nicobar Islands</td>\n",
              "      <td>NICOBARS</td>\n",
              "    </tr>\n",
              "  </tbody>\n",
              "</table>\n",
              "</div>"
            ],
            "text/plain": [
              "                     State_Name District_Name\n",
              "1   Andaman and Nicobar Islands      NICOBARS\n",
              "2   Andaman and Nicobar Islands      NICOBARS\n",
              "11  Andaman and Nicobar Islands      NICOBARS\n",
              "12  Andaman and Nicobar Islands      NICOBARS\n",
              "18  Andaman and Nicobar Islands      NICOBARS\n",
              "27  Andaman and Nicobar Islands      NICOBARS\n",
              "36  Andaman and Nicobar Islands      NICOBARS\n",
              "45  Andaman and Nicobar Islands      NICOBARS\n",
              "64  Andaman and Nicobar Islands      NICOBARS\n",
              "69  Andaman and Nicobar Islands      NICOBARS"
            ]
          },
          "metadata": {
            "tags": []
          },
          "execution_count": 89
        }
      ]
    },
    {
      "cell_type": "code",
      "metadata": {
        "colab": {
          "base_uri": "https://localhost:8080/"
        },
        "id": "R4JTSYP5PHqn",
        "outputId": "78d88d1d-432a-406f-83ef-f231722e8b3a"
      },
      "source": [
        "pd.set_option('display.max_columns',None)\n",
        "pd.set_option('display.width',None)\n",
        "pd.set_option('display.max_colwidth',-1)"
      ],
      "execution_count": null,
      "outputs": [
        {
          "output_type": "stream",
          "text": [
            "/usr/local/lib/python3.7/dist-packages/ipykernel_launcher.py:3: FutureWarning: Passing a negative integer is deprecated in version 1.0 and will not be supported in future version. Instead, use None to not limit the column width.\n",
            "  This is separate from the ipykernel package so we can avoid doing imports until\n"
          ],
          "name": "stderr"
        }
      ]
    },
    {
      "cell_type": "code",
      "metadata": {
        "colab": {
          "base_uri": "https://localhost:8080/"
        },
        "id": "QuNtWkVrMrZL",
        "outputId": "3f7849bf-ae1f-4d10-d52c-9d2ca3ac194e"
      },
      "source": [
        "group = temp.groupby('State_Name')\n",
        "\n",
        "df2 = group.apply(lambda x: x['District_Name'].unique())\n",
        "df2"
      ],
      "execution_count": null,
      "outputs": [
        {
          "output_type": "execute_result",
          "data": {
            "text/plain": [
              "State_Name\n",
              "Andaman and Nicobar Islands    [NICOBARS, NORTH AND MIDDLE ANDAMAN, SOUTH ANDAMANS]                                                                                                                                                                                                                                                                                                                                                                                                              \n",
              "Andhra Pradesh                 [ANANTAPUR, CHITTOOR, EAST GODAVARI, GUNTUR, KADAPA, KRISHNA, KURNOOL, PRAKASAM, SPSR NELLORE, SRIKAKULAM, VISAKHAPATANAM, VIZIANAGARAM, WEST GODAVARI]                                                                                                                                                                                                                                                                                                           \n",
              "Arunachal Pradesh              [ANJAW, CHANGLANG, DIBANG VALLEY, EAST KAMENG, EAST SIANG, KURUNG KUMEY, LOHIT, LONGDING, LOWER DIBANG VALLEY, LOWER SUBANSIRI, PAPUM PARE, TAWANG, TIRAP, UPPER SIANG, UPPER SUBANSIRI, WEST KAMENG, WEST SIANG]                                                                                                                                                                                                                                                 \n",
              "Assam                          [BAKSA, BARPETA, BONGAIGAON, CACHAR, CHIRANG, DARRANG, DHEMAJI, DHUBRI, DIBRUGARH, DIMA HASAO, GOALPARA, GOLAGHAT, HAILAKANDI, JORHAT, KAMRUP, KAMRUP METRO, KARBI ANGLONG, KARIMGANJ, KOKRAJHAR, LAKHIMPUR, MARIGAON, NAGAON, NALBARI, SIVASAGAR, SONITPUR, TINSUKIA, UDALGURI]                                                                                                                                                                                  \n",
              "Bihar                          [ARARIA, ARWAL, AURANGABAD, BANKA, BEGUSARAI, BHAGALPUR, BHOJPUR, BUXAR, DARBHANGA, GAYA, GOPALGANJ, JAMUI, JEHANABAD, KAIMUR (BHABUA), KATIHAR, KHAGARIA, KISHANGANJ, LAKHISARAI, MADHEPURA, MADHUBANI, MUNGER, MUZAFFARPUR, NALANDA, NAWADA, PASHCHIM CHAMPARAN, PATNA, PURBI CHAMPARAN, PURNIA, ROHTAS, SAHARSA, SAMASTIPUR, SARAN, SHEIKHPURA, SHEOHAR, SITAMARHI, SIWAN, SUPAUL, VAISHALI]                                                                   \n",
              "Chandigarh                     [CHANDIGARH]                                                                                                                                                                                                                                                                                                                                                                                                                                                      \n",
              "Chhattisgarh                   [BALOD, BALODA BAZAR, BALRAMPUR, BASTAR, BEMETARA, BIJAPUR, BILASPUR, DANTEWADA, DHAMTARI, DURG, GARIYABAND, JANJGIR-CHAMPA, JASHPUR, KABIRDHAM, KANKER, KONDAGAON, KORBA, KOREA, MAHASAMUND, MUNGELI, NARAYANPUR, RAIGARH, RAIPUR, RAJNANDGAON, SUKMA, SURAJPUR, SURGUJA]                                                                                                                                                                                        \n",
              "Dadra and Nagar Haveli         [DADRA AND NAGAR HAVELI]                                                                                                                                                                                                                                                                                                                                                                                                                                          \n",
              "Goa                            [NORTH GOA, SOUTH GOA]                                                                                                                                                                                                                                                                                                                                                                                                                                            \n",
              "Gujarat                        [AHMADABAD, AMRELI, ANAND, BANAS KANTHA, BHARUCH, BHAVNAGAR, DANG, DOHAD, GANDHINAGAR, JAMNAGAR, JUNAGADH, KACHCHH, KHEDA, MAHESANA, NARMADA, NAVSARI, PANCH MAHALS, PATAN, PORBANDAR, RAJKOT, SABAR KANTHA, SURAT, SURENDRANAGAR, TAPI, VADODARA, VALSAD]                                                                                                                                                                                                        \n",
              "Haryana                        [AMBALA, BHIWANI, FARIDABAD, FATEHABAD, GURGAON, HISAR, JHAJJAR, JIND, KAITHAL, KARNAL, KURUKSHETRA, MAHENDRAGARH, MEWAT, PALWAL, PANCHKULA, PANIPAT, REWARI, ROHTAK, SIRSA, SONIPAT, YAMUNANAGAR]                                                                                                                                                                                                                                                                \n",
              "Himachal Pradesh               [BILASPUR, CHAMBA, HAMIRPUR, KANGRA, KINNAUR, KULLU, LAHUL AND SPITI, MANDI, SHIMLA, SIRMAUR, SOLAN, UNA]                                                                                                                                                                                                                                                                                                                                                         \n",
              "Jammu and Kashmir              [ANANTNAG, BADGAM, BANDIPORA, BARAMULLA, DODA, GANDERBAL, JAMMU, KARGIL, KATHUA, KISHTWAR, KULGAM, KUPWARA, LEH LADAKH, POONCH, PULWAMA, RAJAURI, RAMBAN, REASI, SAMBA, SHOPIAN, SRINAGAR, UDHAMPUR]                                                                                                                                                                                                                                                              \n",
              "Jharkhand                      [BOKARO, CHATRA, DEOGHAR, DHANBAD, DUMKA, EAST SINGHBUM, GARHWA, GIRIDIH, GODDA, GUMLA, HAZARIBAGH, JAMTARA, KHUNTI, KODERMA, LATEHAR, LOHARDAGA, PAKUR, PALAMU, RAMGARH, RANCHI, SAHEBGANJ, SARAIKELA KHARSAWAN, SIMDEGA, WEST SINGHBHUM]                                                                                                                                                                                                                        \n",
              "Karnataka                      [BAGALKOT, BANGALORE RURAL, BELGAUM, BELLARY, BENGALURU URBAN, BIDAR, BIJAPUR, CHAMARAJANAGAR, CHIKBALLAPUR, CHIKMAGALUR, CHITRADURGA, DAKSHIN KANNAD, DAVANGERE, DHARWAD, GADAG, GULBARGA, HASSAN, HAVERI, KODAGU, KOLAR, KOPPAL, MANDYA, MYSORE, RAICHUR, RAMANAGARA, SHIMOGA, TUMKUR, UDUPI, UTTAR KANNAD, YADGIR]                                                                                                                                             \n",
              "Kerala                         [ALAPPUZHA, ERNAKULAM, IDUKKI, KANNUR, KASARAGOD, KOLLAM, KOTTAYAM, KOZHIKODE, MALAPPURAM, PALAKKAD, PATHANAMTHITTA, THIRUVANANTHAPURAM, THRISSUR, WAYANAD]                                                                                                                                                                                                                                                                                                       \n",
              "Madhya Pradesh                 [AGAR MALWA, ALIRAJPUR, ANUPPUR, ASHOKNAGAR, BALAGHAT, BARWANI, BETUL, BHIND, BHOPAL, BURHANPUR, CHHATARPUR, CHHINDWARA, DAMOH, DATIA, DEWAS, DHAR, DINDORI, GUNA, GWALIOR, HARDA, HOSHANGABAD, INDORE, JABALPUR, JHABUA, KATNI, KHANDWA, KHARGONE, MANDLA, MANDSAUR, MORENA, NARSINGHPUR, NEEMUCH, PANNA, RAISEN, RAJGARH, RATLAM, REWA, SAGAR, SATNA, SEHORE, SEONI, SHAHDOL, SHAJAPUR, SHEOPUR, SHIVPURI, SIDHI, SINGRAULI, TIKAMGARH, UJJAIN, UMARIA, VIDISHA]\n",
              "Maharashtra                    [AHMEDNAGAR, AKOLA, AMRAVATI, AURANGABAD, BEED, BHANDARA, BULDHANA, CHANDRAPUR, DHULE, GADCHIROLI, GONDIA, HINGOLI, JALGAON, JALNA, KOLHAPUR, LATUR, MUMBAI, NAGPUR, NANDED, NANDURBAR, NASHIK, OSMANABAD, PALGHAR, PARBHANI, PUNE, RAIGAD, RATNAGIRI, SANGLI, SATARA, SINDHUDURG, SOLAPUR, THANE, WARDHA]                                                                                                                                                        \n",
              "dtype: object"
            ]
          },
          "metadata": {
            "tags": []
          },
          "execution_count": 91
        }
      ]
    },
    {
      "cell_type": "code",
      "metadata": {
        "id": "o5NIEJnfMZq6"
      },
      "source": [
        ""
      ],
      "execution_count": null,
      "outputs": []
    },
    {
      "cell_type": "code",
      "metadata": {
        "id": "ckHej5vTYeR0"
      },
      "source": [
        "from sklearn import preprocessing \n",
        "  \n",
        "# label_encoder object knows how to understand word labels. \n",
        "label_encoder = preprocessing.LabelEncoder() \n",
        "  \n",
        "# Encode labels in column 'species'. \n",
        "dataset['State_Name']= label_encoder.fit_transform(dataset['State_Name']) \n",
        "dataset['District_Name']= label_encoder.fit_transform(dataset['District_Name'])\n",
        "dataset['Season']= label_encoder.fit_transform(dataset['Season'])\n",
        "dataset['Crop']= label_encoder.fit_transform(dataset['Crop'])"
      ],
      "execution_count": null,
      "outputs": []
    },
    {
      "cell_type": "code",
      "metadata": {
        "colab": {
          "base_uri": "https://localhost:8080/",
          "height": 254
        },
        "id": "_UwOMtE_azeQ",
        "outputId": "3bf67c1b-56f9-4ab2-a043-86021c1876a0"
      },
      "source": [
        "correlation_df = dataset.corr()\n",
        "correlation_df"
      ],
      "execution_count": null,
      "outputs": [
        {
          "output_type": "execute_result",
          "data": {
            "text/html": [
              "<div>\n",
              "<style scoped>\n",
              "    .dataframe tbody tr th:only-of-type {\n",
              "        vertical-align: middle;\n",
              "    }\n",
              "\n",
              "    .dataframe tbody tr th {\n",
              "        vertical-align: top;\n",
              "    }\n",
              "\n",
              "    .dataframe thead th {\n",
              "        text-align: right;\n",
              "    }\n",
              "</style>\n",
              "<table border=\"1\" class=\"dataframe\">\n",
              "  <thead>\n",
              "    <tr style=\"text-align: right;\">\n",
              "      <th></th>\n",
              "      <th>State_Name</th>\n",
              "      <th>District_Name</th>\n",
              "      <th>Crop_Year</th>\n",
              "      <th>Season</th>\n",
              "      <th>Crop</th>\n",
              "      <th>Area</th>\n",
              "      <th>Production</th>\n",
              "    </tr>\n",
              "  </thead>\n",
              "  <tbody>\n",
              "    <tr>\n",
              "      <th>State_Name</th>\n",
              "      <td>1.000000</td>\n",
              "      <td>-0.074771</td>\n",
              "      <td>-0.036265</td>\n",
              "      <td>-0.043518</td>\n",
              "      <td>-0.010227</td>\n",
              "      <td>0.100587</td>\n",
              "      <td>0.023738</td>\n",
              "    </tr>\n",
              "    <tr>\n",
              "      <th>District_Name</th>\n",
              "      <td>-0.074771</td>\n",
              "      <td>1.000000</td>\n",
              "      <td>-0.025769</td>\n",
              "      <td>-0.009385</td>\n",
              "      <td>0.006524</td>\n",
              "      <td>-0.009180</td>\n",
              "      <td>0.006693</td>\n",
              "    </tr>\n",
              "    <tr>\n",
              "      <th>Crop_Year</th>\n",
              "      <td>-0.036265</td>\n",
              "      <td>-0.025769</td>\n",
              "      <td>1.000000</td>\n",
              "      <td>0.029577</td>\n",
              "      <td>-0.005757</td>\n",
              "      <td>-0.024065</td>\n",
              "      <td>0.018592</td>\n",
              "    </tr>\n",
              "    <tr>\n",
              "      <th>Season</th>\n",
              "      <td>-0.043518</td>\n",
              "      <td>-0.009385</td>\n",
              "      <td>0.029577</td>\n",
              "      <td>1.000000</td>\n",
              "      <td>0.081895</td>\n",
              "      <td>-0.005902</td>\n",
              "      <td>0.022296</td>\n",
              "    </tr>\n",
              "    <tr>\n",
              "      <th>Crop</th>\n",
              "      <td>-0.010227</td>\n",
              "      <td>0.006524</td>\n",
              "      <td>-0.005757</td>\n",
              "      <td>0.081895</td>\n",
              "      <td>1.000000</td>\n",
              "      <td>0.058078</td>\n",
              "      <td>0.098870</td>\n",
              "    </tr>\n",
              "    <tr>\n",
              "      <th>Area</th>\n",
              "      <td>0.100587</td>\n",
              "      <td>-0.009180</td>\n",
              "      <td>-0.024065</td>\n",
              "      <td>-0.005902</td>\n",
              "      <td>0.058078</td>\n",
              "      <td>1.000000</td>\n",
              "      <td>0.777155</td>\n",
              "    </tr>\n",
              "    <tr>\n",
              "      <th>Production</th>\n",
              "      <td>0.023738</td>\n",
              "      <td>0.006693</td>\n",
              "      <td>0.018592</td>\n",
              "      <td>0.022296</td>\n",
              "      <td>0.098870</td>\n",
              "      <td>0.777155</td>\n",
              "      <td>1.000000</td>\n",
              "    </tr>\n",
              "  </tbody>\n",
              "</table>\n",
              "</div>"
            ],
            "text/plain": [
              "               State_Name  District_Name  Crop_Year    Season      Crop  \\\n",
              "State_Name     1.000000   -0.074771      -0.036265  -0.043518 -0.010227   \n",
              "District_Name -0.074771    1.000000      -0.025769  -0.009385  0.006524   \n",
              "Crop_Year     -0.036265   -0.025769       1.000000   0.029577 -0.005757   \n",
              "Season        -0.043518   -0.009385       0.029577   1.000000  0.081895   \n",
              "Crop          -0.010227    0.006524      -0.005757   0.081895  1.000000   \n",
              "Area           0.100587   -0.009180      -0.024065  -0.005902  0.058078   \n",
              "Production     0.023738    0.006693       0.018592   0.022296  0.098870   \n",
              "\n",
              "                   Area  Production  \n",
              "State_Name     0.100587  0.023738    \n",
              "District_Name -0.009180  0.006693    \n",
              "Crop_Year     -0.024065  0.018592    \n",
              "Season        -0.005902  0.022296    \n",
              "Crop           0.058078  0.098870    \n",
              "Area           1.000000  0.777155    \n",
              "Production     0.777155  1.000000    "
            ]
          },
          "metadata": {
            "tags": []
          },
          "execution_count": 93
        }
      ]
    },
    {
      "cell_type": "code",
      "metadata": {
        "id": "CeDIh1vKYn-Z"
      },
      "source": [
        "x=dataset.drop(['Production'],axis=1)"
      ],
      "execution_count": null,
      "outputs": []
    },
    {
      "cell_type": "code",
      "metadata": {
        "id": "5jqIJE3lYt1X"
      },
      "source": [
        "y=dataset['Production']"
      ],
      "execution_count": null,
      "outputs": []
    },
    {
      "cell_type": "code",
      "metadata": {
        "id": "TVvFaIaQYxX4"
      },
      "source": [
        "from sklearn.model_selection import KFold, cross_val_score, train_test_split\n",
        "X_train, X_test, y_train, y_test = train_test_split(x, y, test_size=0.20, shuffle=True)"
      ],
      "execution_count": null,
      "outputs": []
    },
    {
      "cell_type": "code",
      "metadata": {
        "colab": {
          "base_uri": "https://localhost:8080/"
        },
        "id": "3Uix4GrIY11-",
        "outputId": "0287fa95-4745-4cc2-a050-1edf46780f53"
      },
      "source": [
        "import numpy as np\n",
        "from sklearn.linear_model import LinearRegression\n",
        "model = LinearRegression()\n",
        "model.fit(X_train, y_train)\n",
        "reg_pred=model.predict(X_test)\n",
        "r_sq = model.score(X_test,y_test)\n",
        "\n",
        "print('coefficient of determination:', r_sq)"
      ],
      "execution_count": null,
      "outputs": [
        {
          "output_type": "stream",
          "text": [
            "coefficient of determination: 0.6407595260374306\n"
          ],
          "name": "stdout"
        }
      ]
    },
    {
      "cell_type": "code",
      "metadata": {
        "id": "GXRPUxUfb8XZ"
      },
      "source": [
        "import numpy as np\n",
        "import seaborn as sns\n",
        "import matplotlib.pyplot as plt"
      ],
      "execution_count": null,
      "outputs": []
    },
    {
      "cell_type": "code",
      "metadata": {
        "id": "Lv97zXUrcAk8"
      },
      "source": [
        "sns.set_theme(color_codes=True)"
      ],
      "execution_count": null,
      "outputs": []
    },
    {
      "cell_type": "code",
      "metadata": {
        "colab": {
          "base_uri": "https://localhost:8080/"
        },
        "id": "A4gvUldgk3DU",
        "outputId": "99834126-70b9-48a4-e6c6-3d77b7d38776"
      },
      "source": [
        "dataset.shape"
      ],
      "execution_count": null,
      "outputs": [
        {
          "output_type": "execute_result",
          "data": {
            "text/plain": [
              "(93146, 7)"
            ]
          },
          "metadata": {
            "tags": []
          },
          "execution_count": 22
        }
      ]
    },
    {
      "cell_type": "code",
      "metadata": {
        "colab": {
          "base_uri": "https://localhost:8080/",
          "height": 296
        },
        "id": "8YZJhxpkcHRM",
        "outputId": "98a3a606-ee52-41f0-cdce-d1e240f6aec7"
      },
      "source": [
        "sns.regplot(x=\"State_Name\", y=\"Production\", data=dataset);\n"
      ],
      "execution_count": null,
      "outputs": [
        {
          "output_type": "display_data",
          "data": {
            "image/png": "[encoded data removed]",
            "text/plain": [
              "<Figure size 432x288 with 1 Axes>"
            ]
          },
          "metadata": {
            "tags": []
          }
        }
      ]
    },
    {
      "cell_type": "code",
      "metadata": {
        "colab": {
          "base_uri": "https://localhost:8080/",
          "height": 296
        },
        "id": "7HkCvEsYcpUM",
        "outputId": "26dbe2b2-4cfb-477d-b8d0-386e3db9cb08"
      },
      "source": [
        "sns.regplot(x=\"Crop\", y=\"Production\", data=dataset);"
      ],
      "execution_count": null,
      "outputs": [
        {
          "output_type": "display_data",
          "data": {
            "image/png": "[encoded data removed]",
            "text/plain": [
              "<Figure size 432x288 with 1 Axes>"
            ]
          },
          "metadata": {
            "tags": []
          }
        }
      ]
    },
    {
      "cell_type": "code",
      "metadata": {
        "colab": {
          "base_uri": "https://localhost:8080/"
        },
        "id": "Hiyh_O_Pcw5S",
        "outputId": "a1f7ecc0-2caa-4974-8042-9c04583d3777"
      },
      "source": [
        "from sklearn.ensemble import RandomForestRegressor\n",
        "from sklearn.datasets import make_regression\n",
        "\n",
        "r_f = RandomForestRegressor(max_depth=12, random_state=0)\n",
        "r_f.fit(X_train, y_train)\n",
        "reg_pred=r_f.predict(X_test)\n",
        "r_sq = r_f.score(X_test,y_test)\n",
        "\n",
        "print('coefficient of determination:', r_sq)"
      ],
      "execution_count": null,
      "outputs": [
        {
          "output_type": "stream",
          "text": [
            "coefficient of determination: 0.9292616129804943\n"
          ],
          "name": "stdout"
        }
      ]
    },
    {
      "cell_type": "code",
      "metadata": {
        "id": "xmFOqyCnZudB",
        "colab": {
          "base_uri": "https://localhost:8080/",
          "height": 402
        },
        "outputId": "ff3d1e1b-c923-412d-9c8e-532cdc44c825"
      },
      "source": [
        "df=pd.DataFrame({'Actual':y_test, 'Predicted':reg_pred})\n",
        "df"
      ],
      "execution_count": null,
      "outputs": [
        {
          "output_type": "execute_result",
          "data": {
            "text/html": [
              "<div>\n",
              "<style scoped>\n",
              "    .dataframe tbody tr th:only-of-type {\n",
              "        vertical-align: middle;\n",
              "    }\n",
              "\n",
              "    .dataframe tbody tr th {\n",
              "        vertical-align: top;\n",
              "    }\n",
              "\n",
              "    .dataframe thead th {\n",
              "        text-align: right;\n",
              "    }\n",
              "</style>\n",
              "<table border=\"1\" class=\"dataframe\">\n",
              "  <thead>\n",
              "    <tr style=\"text-align: right;\">\n",
              "      <th></th>\n",
              "      <th>Actual</th>\n",
              "      <th>Predicted</th>\n",
              "    </tr>\n",
              "  </thead>\n",
              "  <tbody>\n",
              "    <tr>\n",
              "      <th>38654</th>\n",
              "      <td>7.0</td>\n",
              "      <td>8.813972</td>\n",
              "    </tr>\n",
              "    <tr>\n",
              "      <th>64084</th>\n",
              "      <td>56400.0</td>\n",
              "      <td>60014.952860</td>\n",
              "    </tr>\n",
              "    <tr>\n",
              "      <th>13347</th>\n",
              "      <td>17.0</td>\n",
              "      <td>21.259786</td>\n",
              "    </tr>\n",
              "    <tr>\n",
              "      <th>102670</th>\n",
              "      <td>1492.0</td>\n",
              "      <td>2612.141151</td>\n",
              "    </tr>\n",
              "    <tr>\n",
              "      <th>10993</th>\n",
              "      <td>390.0</td>\n",
              "      <td>377.091905</td>\n",
              "    </tr>\n",
              "    <tr>\n",
              "      <th>...</th>\n",
              "      <td>...</td>\n",
              "      <td>...</td>\n",
              "    </tr>\n",
              "    <tr>\n",
              "      <th>65442</th>\n",
              "      <td>100.0</td>\n",
              "      <td>106.595944</td>\n",
              "    </tr>\n",
              "    <tr>\n",
              "      <th>59642</th>\n",
              "      <td>200.0</td>\n",
              "      <td>227.512779</td>\n",
              "    </tr>\n",
              "    <tr>\n",
              "      <th>38170</th>\n",
              "      <td>122.0</td>\n",
              "      <td>128.114605</td>\n",
              "    </tr>\n",
              "    <tr>\n",
              "      <th>61057</th>\n",
              "      <td>100.0</td>\n",
              "      <td>88.452741</td>\n",
              "    </tr>\n",
              "    <tr>\n",
              "      <th>96517</th>\n",
              "      <td>2160.0</td>\n",
              "      <td>1460.897886</td>\n",
              "    </tr>\n",
              "  </tbody>\n",
              "</table>\n",
              "<p>18630 rows × 2 columns</p>\n",
              "</div>"
            ],
            "text/plain": [
              "         Actual     Predicted\n",
              "38654   7.0      8.813972    \n",
              "64084   56400.0  60014.952860\n",
              "13347   17.0     21.259786   \n",
              "102670  1492.0   2612.141151 \n",
              "10993   390.0    377.091905  \n",
              "...       ...           ...  \n",
              "65442   100.0    106.595944  \n",
              "59642   200.0    227.512779  \n",
              "38170   122.0    128.114605  \n",
              "61057   100.0    88.452741   \n",
              "96517   2160.0   1460.897886 \n",
              "\n",
              "[18630 rows x 2 columns]"
            ]
          },
          "metadata": {
            "tags": []
          },
          "execution_count": 168
        }
      ]
    },
    {
      "cell_type": "code",
      "metadata": {
        "colab": {
          "base_uri": "https://localhost:8080/"
        },
        "id": "m8uCtAxWoobd",
        "outputId": "6c9b8475-89a4-4c20-85bd-b3dd54f1e9b5"
      },
      "source": [
        "pred_value=r_f.predict([[17,351,2010,9,11,50000.0]])\n",
        "pred_value"
      ],
      "execution_count": null,
      "outputs": [
        {
          "output_type": "execute_result",
          "data": {
            "text/plain": [
              "array([102362.04])"
            ]
          },
          "metadata": {
            "tags": []
          },
          "execution_count": 170
        }
      ]
    },
    {
      "cell_type": "code",
      "metadata": {
        "id": "u6iLHfL4py7t"
      },
      "source": [
        "import pickle\n",
        "filename='agri_rf_model_5.pkl'\n",
        "pickle.dump(r_f,open(filename,'wb'))"
      ],
      "execution_count": null,
      "outputs": []
    },
    {
      "cell_type": "code",
      "metadata": {
        "colab": {
          "base_uri": "https://localhost:8080/",
          "height": 343
        },
        "id": "wDEgxfsTo0rN",
        "outputId": "66d50567-c73d-4ef9-a766-d7215ee552c5"
      },
      "source": [
        "dataset.head(10)"
      ],
      "execution_count": null,
      "outputs": [
        {
          "output_type": "execute_result",
          "data": {
            "text/html": [
              "<div>\n",
              "<style scoped>\n",
              "    .dataframe tbody tr th:only-of-type {\n",
              "        vertical-align: middle;\n",
              "    }\n",
              "\n",
              "    .dataframe tbody tr th {\n",
              "        vertical-align: top;\n",
              "    }\n",
              "\n",
              "    .dataframe thead th {\n",
              "        text-align: right;\n",
              "    }\n",
              "</style>\n",
              "<table border=\"1\" class=\"dataframe\">\n",
              "  <thead>\n",
              "    <tr style=\"text-align: right;\">\n",
              "      <th></th>\n",
              "      <th>State_Name</th>\n",
              "      <th>District_Name</th>\n",
              "      <th>Crop_Year</th>\n",
              "      <th>Season</th>\n",
              "      <th>Crop</th>\n",
              "      <th>Area</th>\n",
              "      <th>Production</th>\n",
              "    </tr>\n",
              "  </thead>\n",
              "  <tbody>\n",
              "    <tr>\n",
              "      <th>1</th>\n",
              "      <td>0</td>\n",
              "      <td>235</td>\n",
              "      <td>2000</td>\n",
              "      <td>1</td>\n",
              "      <td>19</td>\n",
              "      <td>2.00</td>\n",
              "      <td>1.00</td>\n",
              "    </tr>\n",
              "    <tr>\n",
              "      <th>2</th>\n",
              "      <td>0</td>\n",
              "      <td>235</td>\n",
              "      <td>2000</td>\n",
              "      <td>1</td>\n",
              "      <td>23</td>\n",
              "      <td>102.00</td>\n",
              "      <td>321.00</td>\n",
              "    </tr>\n",
              "    <tr>\n",
              "      <th>11</th>\n",
              "      <td>0</td>\n",
              "      <td>235</td>\n",
              "      <td>2001</td>\n",
              "      <td>1</td>\n",
              "      <td>19</td>\n",
              "      <td>2.00</td>\n",
              "      <td>1.00</td>\n",
              "    </tr>\n",
              "    <tr>\n",
              "      <th>12</th>\n",
              "      <td>0</td>\n",
              "      <td>235</td>\n",
              "      <td>2001</td>\n",
              "      <td>1</td>\n",
              "      <td>23</td>\n",
              "      <td>83.00</td>\n",
              "      <td>300.00</td>\n",
              "    </tr>\n",
              "    <tr>\n",
              "      <th>18</th>\n",
              "      <td>0</td>\n",
              "      <td>235</td>\n",
              "      <td>2002</td>\n",
              "      <td>1</td>\n",
              "      <td>23</td>\n",
              "      <td>189.20</td>\n",
              "      <td>510.84</td>\n",
              "    </tr>\n",
              "    <tr>\n",
              "      <th>27</th>\n",
              "      <td>0</td>\n",
              "      <td>235</td>\n",
              "      <td>2003</td>\n",
              "      <td>1</td>\n",
              "      <td>23</td>\n",
              "      <td>52.00</td>\n",
              "      <td>90.17</td>\n",
              "    </tr>\n",
              "    <tr>\n",
              "      <th>36</th>\n",
              "      <td>0</td>\n",
              "      <td>235</td>\n",
              "      <td>2004</td>\n",
              "      <td>1</td>\n",
              "      <td>23</td>\n",
              "      <td>52.94</td>\n",
              "      <td>72.57</td>\n",
              "    </tr>\n",
              "    <tr>\n",
              "      <th>45</th>\n",
              "      <td>0</td>\n",
              "      <td>235</td>\n",
              "      <td>2005</td>\n",
              "      <td>1</td>\n",
              "      <td>23</td>\n",
              "      <td>2.09</td>\n",
              "      <td>12.06</td>\n",
              "    </tr>\n",
              "    <tr>\n",
              "      <th>64</th>\n",
              "      <td>0</td>\n",
              "      <td>235</td>\n",
              "      <td>2010</td>\n",
              "      <td>0</td>\n",
              "      <td>23</td>\n",
              "      <td>3.50</td>\n",
              "      <td>10.00</td>\n",
              "    </tr>\n",
              "    <tr>\n",
              "      <th>69</th>\n",
              "      <td>0</td>\n",
              "      <td>235</td>\n",
              "      <td>2010</td>\n",
              "      <td>2</td>\n",
              "      <td>5</td>\n",
              "      <td>12.00</td>\n",
              "      <td>25.00</td>\n",
              "    </tr>\n",
              "  </tbody>\n",
              "</table>\n",
              "</div>"
            ],
            "text/plain": [
              "    State_Name  District_Name  Crop_Year  Season  Crop    Area  Production\n",
              "1   0           235            2000       1       19    2.00    1.00      \n",
              "2   0           235            2000       1       23    102.00  321.00    \n",
              "11  0           235            2001       1       19    2.00    1.00      \n",
              "12  0           235            2001       1       23    83.00   300.00    \n",
              "18  0           235            2002       1       23    189.20  510.84    \n",
              "27  0           235            2003       1       23    52.00   90.17     \n",
              "36  0           235            2004       1       23    52.94   72.57     \n",
              "45  0           235            2005       1       23    2.09    12.06     \n",
              "64  0           235            2010       0       23    3.50    10.00     \n",
              "69  0           235            2010       2       5     12.00   25.00     "
            ]
          },
          "metadata": {
            "tags": []
          },
          "execution_count": 172
        }
      ]
    },
    {
      "cell_type": "markdown",
      "metadata": {
        "id": "hiqliM2ObNsU"
      },
      "source": [
        "//"
      ]
    },
    {
      "cell_type": "code",
      "metadata": {
        "colab": {
          "base_uri": "https://localhost:8080/",
          "height": 302
        },
        "id": "cutitx00eZX4",
        "outputId": "558ac299-a6d7-4b1a-b7b0-983dc40d010f"
      },
      "source": [
        "import seaborn as sns\n",
        "sns.boxplot(x=dataset['Crop_Year'])"
      ],
      "execution_count": null,
      "outputs": [
        {
          "output_type": "execute_result",
          "data": {
            "text/plain": [
              "<matplotlib.axes._subplots.AxesSubplot at 0x7f88071d8fd0>"
            ]
          },
          "metadata": {
            "tags": []
          },
          "execution_count": 111
        },
        {
          "output_type": "display_data",
          "data": {
            "image/png": "[encoded data removed]",
            "text/plain": [
              "<Figure size 432x288 with 1 Axes>"
            ]
          },
          "metadata": {
            "tags": []
          }
        }
      ]
    },
    {
      "cell_type": "markdown",
      "metadata": {
        "id": "o6aF3pY51XvR"
      },
      "source": [
        "PCA"
      ]
    },
    {
      "cell_type": "code",
      "metadata": {
        "colab": {
          "base_uri": "https://localhost:8080/"
        },
        "id": "qO4JT4iITKYf",
        "outputId": "58b7e73d-9b10-4777-8138-9e7e7cc84528"
      },
      "source": [
        "x1=x\n",
        "from sklearn.preprocessing import StandardScaler\n",
        "scaler = StandardScaler()\n",
        "scaler.fit(x1)"
      ],
      "execution_count": null,
      "outputs": [
        {
          "output_type": "execute_result",
          "data": {
            "text/plain": [
              "StandardScaler(copy=True, with_mean=True, with_std=True)"
            ]
          },
          "metadata": {
            "tags": []
          },
          "execution_count": 21
        }
      ]
    },
    {
      "cell_type": "code",
      "metadata": {
        "id": "Wv8tTIrQTPFj"
      },
      "source": [
        "scaled_data = scaler.transform(x1)"
      ],
      "execution_count": null,
      "outputs": []
    },
    {
      "cell_type": "code",
      "metadata": {
        "colab": {
          "base_uri": "https://localhost:8080/"
        },
        "id": "w-NWD9iHTTHN",
        "outputId": "6dd2547c-3157-4557-ab02-af880f8174b4"
      },
      "source": [
        "from sklearn.decomposition import PCA\n",
        "pca = PCA(n_components=6)\n",
        "pca.fit(scaled_data)"
      ],
      "execution_count": null,
      "outputs": [
        {
          "output_type": "execute_result",
          "data": {
            "text/plain": [
              "PCA(copy=True, iterated_power='auto', n_components=6, random_state=None,\n",
              "    svd_solver='auto', tol=0.0, whiten=False)"
            ]
          },
          "metadata": {
            "tags": []
          },
          "execution_count": 23
        }
      ]
    },
    {
      "cell_type": "code",
      "metadata": {
        "id": "uWXUwYjpTc7g"
      },
      "source": [
        "x_pca = pca.transform(scaled_data)"
      ],
      "execution_count": null,
      "outputs": []
    },
    {
      "cell_type": "code",
      "metadata": {
        "colab": {
          "base_uri": "https://localhost:8080/"
        },
        "id": "oK38XAMmTjgE",
        "outputId": "3c338bcd-27b7-41c8-8b62-fff5e35cec55"
      },
      "source": [
        "pca = PCA(whiten=True)\n",
        "pca.fit(dataset)\n",
        "variance = pd.DataFrame(pca.explained_variance_ratio_)\n",
        "np.cumsum(pca.explained_variance_ratio_)"
      ],
      "execution_count": null,
      "outputs": [
        {
          "output_type": "execute_result",
          "data": {
            "text/plain": [
              "array([0.9247437 , 0.99999854, 0.99999998, 0.99999999, 1.        ,\n",
              "       1.        , 1.        ])"
            ]
          },
          "metadata": {
            "tags": []
          },
          "execution_count": 25
        }
      ]
    },
    {
      "cell_type": "code",
      "metadata": {
        "id": "9_FlO1ZBTp7_"
      },
      "source": [
        "pca = PCA(n_components=3,whiten=True)\n",
        "pca = pca.fit(dataset)\n",
        "dataPCA = pca.transform(dataset)"
      ],
      "execution_count": null,
      "outputs": []
    },
    {
      "cell_type": "code",
      "metadata": {
        "id": "DjIolUy8TvTR"
      },
      "source": [
        "train=dataPCA[:47500]"
      ],
      "execution_count": null,
      "outputs": []
    },
    {
      "cell_type": "code",
      "metadata": {
        "id": "UpEzmFFcTz_q"
      },
      "source": [
        "test=dataPCA[47500:]"
      ],
      "execution_count": null,
      "outputs": []
    },
    {
      "cell_type": "code",
      "metadata": {
        "id": "8-9iaXqPT3bI"
      },
      "source": [
        "from sklearn.model_selection import KFold, cross_val_score, train_test_split\n",
        "X_train1, X_test1, y_train1, y_test1 = train_test_split(x_pca, y, test_size=0.20, shuffle=True)"
      ],
      "execution_count": null,
      "outputs": []
    },
    {
      "cell_type": "code",
      "metadata": {
        "colab": {
          "base_uri": "https://localhost:8080/"
        },
        "id": "c6E5mlocUAmY",
        "outputId": "81c8f787-922d-4f49-ca4d-b519e5b84fd4"
      },
      "source": [
        "import numpy as np\n",
        "from sklearn.linear_model import LinearRegression\n",
        "model1 = LinearRegression()\n",
        "model1.fit(X_train1, y_train1)\n",
        "reg_pred=model1.predict(X_test1)\n",
        "r_sq = model1.score(X_test1,y_test1)\n",
        "\n",
        "print('coefficient of determination:', r_sq)"
      ],
      "execution_count": null,
      "outputs": [
        {
          "output_type": "stream",
          "text": [
            "coefficient of determination: 0.6116351885774888\n"
          ],
          "name": "stdout"
        }
      ]
    },
    {
      "cell_type": "code",
      "metadata": {
        "id": "Qg9pcBQvUalF"
      },
      "source": [
        "pca = PCA(n_components=5,whiten=True)\n",
        "pca = pca.fit(dataset)\n",
        "dataPCA = pca.transform(dataset)"
      ],
      "execution_count": null,
      "outputs": []
    },
    {
      "cell_type": "code",
      "metadata": {
        "id": "Owqaiq5eUe_T"
      },
      "source": [
        "train=dataPCA[:47500]"
      ],
      "execution_count": null,
      "outputs": []
    },
    {
      "cell_type": "code",
      "metadata": {
        "id": "Ih87gXZqUnWU"
      },
      "source": [
        "test=dataPCA[47500:]"
      ],
      "execution_count": null,
      "outputs": []
    },
    {
      "cell_type": "code",
      "metadata": {
        "id": "jBnRLsKrUptz"
      },
      "source": [
        "from sklearn.model_selection import KFold, cross_val_score, train_test_split\n",
        "X_train1, X_test1, y_train1, y_test1 = train_test_split(x_pca, y, test_size=0.20, shuffle=True)"
      ],
      "execution_count": null,
      "outputs": []
    },
    {
      "cell_type": "code",
      "metadata": {
        "colab": {
          "base_uri": "https://localhost:8080/"
        },
        "id": "4NW7Qd2fUtLd",
        "outputId": "6394f84d-a4a9-4ff4-c95a-b9a9ea4416e5"
      },
      "source": [
        "import numpy as np\n",
        "from sklearn.linear_model import LinearRegression\n",
        "model1 = LinearRegression()\n",
        "model1.fit(X_train1, y_train1)\n",
        "reg_pred=model1.predict(X_test1)\n",
        "r_sq = model1.score(X_test1,y_test1)\n",
        "\n",
        "print('coefficient of determination:', r_sq)"
      ],
      "execution_count": null,
      "outputs": [
        {
          "output_type": "stream",
          "text": [
            "coefficient of determination: 0.5998990803419398\n"
          ],
          "name": "stdout"
        }
      ]
    }
  ]
}